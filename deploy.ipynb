{
 "cells": [
  {
   "cell_type": "code",
   "execution_count": 1,
   "metadata": {},
   "outputs": [],
   "source": [
    "import os, typing, json\n",
    "\n",
    "from conflux_web3 import Web3\n",
    "from conflux_web3.dev import get_mainnet_web3\n",
    "from dotenv import load_dotenv\n",
    "\n",
    "load_dotenv()\n",
    "\n",
    "class Metadata(typing.TypedDict):\n",
    "    abi: typing.Any\n",
    "    bytecode: typing.Any\n",
    "\n",
    "def get_contract_metadata(path_: str) -> Metadata:\n",
    "    with open(path_) as f:\n",
    "        metadata = json.load(f)\n",
    "        return {\n",
    "            \"abi\": metadata[\"abi\"],\n",
    "            \"bytecode\": metadata[\"bytecode\"][\"object\"]\n",
    "        }"
   ]
  },
  {
   "cell_type": "code",
   "execution_count": 9,
   "metadata": {},
   "outputs": [
    {
     "name": "stdout",
     "output_type": "stream",
     "text": [
      "registry address: cfx:ach1zpmjyv17arzdjx9fgbt4cw6uns0ntuwre8sdsy\n"
     ]
    }
   ],
   "source": [
    "w3 = get_mainnet_web3()\n",
    "acct = w3.account.from_key(os.environ[\"SK\"])\n",
    "w3.cfx.default_account = acct\n",
    "\n",
    "Registry = w3.cfx.contract(**get_contract_metadata(\"./out/ERC6551Registry.sol/ERC6551Registry.json\"))\n",
    "registry_address = Registry.constructor().transact().executed()[\"contractCreated\"]\n",
    "if registry_address is None:\n",
    "    raise Exception(\"unexpected result\")\n",
    "print(f\"registry address: {registry_address}\")\n",
    "registry = Registry(\n",
    "    registry_address\n",
    ")"
   ]
  },
  {
   "cell_type": "code",
   "execution_count": 10,
   "metadata": {},
   "outputs": [
    {
     "data": {
      "text/plain": [
       "'cfx:acd9jgz4d5as156ef08r5mdgux28y51yz639nr5s78'"
      ]
     },
     "execution_count": 10,
     "metadata": {},
     "output_type": "execute_result"
    }
   ],
   "source": [
    "Implementation = w3.cfx.contract(**get_contract_metadata(\"./out/ERC6551AccountUpgradeable.sol/ERC6551AccountUpgradeable.json\"))\n",
    "simple_impl_addr = Implementation.constructor().transact().executed()[\"contractCreated\"]\n",
    "if simple_impl_addr is None:\n",
    "    raise Exception(\"unexpected result\")\n",
    "# print(f\"implementation result: {simple_impl_addr}\")\n",
    "# acct_impl = Implementation(simple_impl_addr)\n",
    "simple_impl_addr"
   ]
  },
  {
   "cell_type": "code",
   "execution_count": 11,
   "metadata": {},
   "outputs": [
    {
     "data": {
      "text/plain": [
       "AttributeDict({'transactionHash': HexBytes('0x104fbd92baf35dc1825413a470f80429ad58dd09a0a0718c9ac07565438abb7c'),\n",
       " 'index': 0,\n",
       " 'blockHash': HexBytes('0xae0900e5691ed42443bce55b5c3bcad2fe522d7b78d0a8faa5876f6c6deded18'),\n",
       " 'epochNumber': 78314716,\n",
       " 'from': 'cfx:aanthezva9vuyrpsmb15sf9xt97f8vduky1k1vwka5',\n",
       " 'to': 'cfx:aaejuaaaaaaaaaaaaaaaaaaaaaaaaaaaaa2mhjju8k',\n",
       " 'gasUsed': 27808,\n",
       " 'gasFee': 27808000000000 Drip,\n",
       " 'contractCreated': None,\n",
       " 'logs': [],\n",
       " 'logsBloom': HexBytes('0x00000000000000000000000000000000000000000000000000000000000000000000000000000000000000000000000000000000000000000000000000000000000000000000000000000000000000000000000000000000000000000000000000000000000000000000000000000000000000000000000000000000000000000000000000000000000000000000000000000000000000000000000000000000000000000000000000000000000000000000000000000000000000000000000000000000000000000000000000000000000000000000000000000000000000000000000000000000000000000000000000000000000000000000000000000000'),\n",
       " 'stateRoot': HexBytes('0x6a6942c12f8b95e045fed5da1280a0d39d4647989b879ee6f984f82105fe0de8'),\n",
       " 'outcomeStatus': 0,\n",
       " 'txExecErrorMsg': None,\n",
       " 'gasCoveredBySponsor': False,\n",
       " 'storageCoveredBySponsor': False,\n",
       " 'storageCollateralized': 0,\n",
       " 'storageReleased': []})"
      ]
     },
     "execution_count": 11,
     "metadata": {},
     "output_type": "execute_result"
    }
   ],
   "source": [
    "admin_control = w3.cfx.contract(name=\"AdminControl\", with_deployment_info=True)\n",
    "admin_control.functions.setAdmin(registry.address, w3.address.zero_address()).transact().executed()\n",
    "admin_control.functions.setAdmin(simple_impl_addr, w3.address.zero_address()).transact().executed()\n"
   ]
  }
 ],
 "metadata": {
  "kernelspec": {
   "display_name": "sdk",
   "language": "python",
   "name": "python3"
  },
  "language_info": {
   "codemirror_mode": {
    "name": "ipython",
    "version": 3
   },
   "file_extension": ".py",
   "mimetype": "text/x-python",
   "name": "python",
   "nbconvert_exporter": "python",
   "pygments_lexer": "ipython3",
   "version": "3.8.17"
  },
  "orig_nbformat": 4
 },
 "nbformat": 4,
 "nbformat_minor": 2
}
