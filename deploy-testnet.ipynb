{
 "cells": [
  {
   "cell_type": "code",
   "execution_count": 1,
   "metadata": {},
   "outputs": [],
   "source": [
    "import os, typing, json\n",
    "\n",
    "from conflux_web3 import Web3\n",
    "from conflux_web3.dev import get_testnet_web3\n",
    "from dotenv import load_dotenv\n",
    "\n",
    "load_dotenv()\n",
    "\n",
    "class Metadata(typing.TypedDict):\n",
    "    abi: typing.Any\n",
    "    bytecode: typing.Any\n",
    "\n",
    "def get_contract_metadata(path_: str) -> Metadata:\n",
    "    with open(path_) as f:\n",
    "        metadata = json.load(f)\n",
    "        return {\n",
    "            \"abi\": metadata[\"abi\"],\n",
    "            \"bytecode\": metadata[\"bytecode\"][\"object\"]\n",
    "        }"
   ]
  },
  {
   "cell_type": "code",
   "execution_count": 9,
   "metadata": {},
   "outputs": [
    {
     "name": "stdout",
     "output_type": "stream",
     "text": [
      "registry address: cfx:ach1zpmjyv17arzdjx9fgbt4cw6uns0ntuwre8sdsy\n"
     ]
    }
   ],
   "source": [
    "w3 = get_testnet_web3()\n",
    "acct = w3.account.from_key(os.environ[\"SK\"])\n",
    "w3.cfx.default_account = acct\n",
    "\n",
    "Registry = w3.cfx.contract(**get_contract_metadata(\"./out/ERC6551Registry.sol/ERC6551Registry.json\"))\n",
    "registry_address = Registry.constructor().transact().executed()[\"contractCreated\"]\n",
    "if registry_address is None:\n",
    "    raise Exception(\"unexpected result\")\n",
    "print(f\"registry address: {registry_address}\")\n",
    "registry = Registry(\n",
    "    registry_address\n",
    ")"
   ]
  },
  {
   "cell_type": "code",
   "execution_count": 10,
   "metadata": {},
   "outputs": [
    {
     "data": {
      "text/plain": [
       "'cfx:acd9jgz4d5as156ef08r5mdgux28y51yz639nr5s78'"
      ]
     },
     "execution_count": 10,
     "metadata": {},
     "output_type": "execute_result"
    }
   ],
   "source": [
    "Implementation = w3.cfx.contract(**get_contract_metadata(\"./out/ERC6551AccountUpgradeable.sol/ERC6551AccountUpgradeable.json\"))\n",
    "simple_impl_addr = Implementation.constructor().transact().executed()[\"contractCreated\"]\n",
    "if simple_impl_addr is None:\n",
    "    raise Exception(\"unexpected result\")\n",
    "# print(f\"implementation result: {simple_impl_addr}\")\n",
    "# acct_impl = Implementation(simple_impl_addr)\n",
    "simple_impl_addr"
   ]
  },
  {
   "cell_type": "code",
   "execution_count": 11,
   "metadata": {},
   "outputs": [
    {
     "data": {
      "text/plain": [
       "AttributeDict({'transactionHash': HexBytes('0x104fbd92baf35dc1825413a470f80429ad58dd09a0a0718c9ac07565438abb7c'),\n",
       " 'index': 0,\n",
       " 'blockHash': HexBytes('0xae0900e5691ed42443bce55b5c3bcad2fe522d7b78d0a8faa5876f6c6deded18'),\n",
       " 'epochNumber': 78314716,\n",
       " 'from': 'cfx:aanthezva9vuyrpsmb15sf9xt97f8vduky1k1vwka5',\n",
       " 'to': 'cfx:aaejuaaaaaaaaaaaaaaaaaaaaaaaaaaaaa2mhjju8k',\n",
       " 'gasUsed': 27808,\n",
       " 'gasFee': 27808000000000 Drip,\n",
       " 'contractCreated': None,\n",
       " 'logs': [],\n",
       " 'logsBloom': HexBytes('0x00000000000000000000000000000000000000000000000000000000000000000000000000000000000000000000000000000000000000000000000000000000000000000000000000000000000000000000000000000000000000000000000000000000000000000000000000000000000000000000000000000000000000000000000000000000000000000000000000000000000000000000000000000000000000000000000000000000000000000000000000000000000000000000000000000000000000000000000000000000000000000000000000000000000000000000000000000000000000000000000000000000000000000000000000000000'),\n",
       " 'stateRoot': HexBytes('0x6a6942c12f8b95e045fed5da1280a0d39d4647989b879ee6f984f82105fe0de8'),\n",
       " 'outcomeStatus': 0,\n",
       " 'txExecErrorMsg': None,\n",
       " 'gasCoveredBySponsor': False,\n",
       " 'storageCoveredBySponsor': False,\n",
       " 'storageCollateralized': 0,\n",
       " 'storageReleased': []})"
      ]
     },
     "execution_count": 11,
     "metadata": {},
     "output_type": "execute_result"
    }
   ],
   "source": [
    "admin_control = w3.cfx.contract(name=\"AdminControl\", with_deployment_info=True)\n",
    "admin_control.functions.setAdmin(registry.address, w3.address.zero_address()).transact().executed()\n",
    "admin_control.functions.setAdmin(simple_impl_addr, w3.address.zero_address()).transact().executed()\n"
   ]
  },
  {
   "cell_type": "code",
   "execution_count": 4,
   "metadata": {},
   "outputs": [],
   "source": [
    "# Below code are used under testnet development\n",
    "\n",
    "nft_contract_address = (\n",
    "    \"CFXTEST:...\"\n",
    ")\n",
    "nft_contract = w3.cfx.contract(\n",
    "    address=nft_contract_address, **get_contract_metadata(\"./out/IERC721.sol/IERC721.json\")\n",
    ")\n",
    "token_id = ...\n",
    "\n",
    "tba_acct_addr = registry.functions.account(\n",
    "    simple_impl_addr, w3.cfx.chain_id, nft_contract_address, token_id, 0\n",
    ").call()\n",
    "\n",
    "if not (code := w3.cfx.get_code(tba_acct_addr)):\n",
    "    registry.functions.createAccount(\n",
    "        simple_impl_addr, w3.cfx.chain_id, nft_contract_address, token_id, 0, \"0x\"\n",
    "    ).transact().executed()\n",
    "\n",
    "tba = Implementation(tba_acct_addr)"
   ]
  },
  {
   "cell_type": "code",
   "execution_count": 5,
   "metadata": {},
   "outputs": [
    {
     "data": {
      "text/plain": [
       "'CFXTEST:TYPE.CONTRACT:ACC5XK7B7JAZCRRBFEH1RHPGNY59BZ5D8PP0YPK630'"
      ]
     },
     "execution_count": 5,
     "metadata": {},
     "output_type": "execute_result"
    }
   ],
   "source": [
    "tba.address"
   ]
  },
  {
   "cell_type": "code",
   "execution_count": 6,
   "metadata": {},
   "outputs": [],
   "source": [
    "owner_acct = w3.cfx.account.from_key(os.environ[\"OWNER_SK\"])\n",
    "w3.wallet.add_account(owner_acct)"
   ]
  },
  {
   "cell_type": "code",
   "execution_count": 7,
   "metadata": {},
   "outputs": [
    {
     "data": {
      "text/plain": [
       "'cfxtest:aaaaaaaaaaaaaaaaaaaaaaaaaaaaaaaaaa6f0vrcsw'"
      ]
     },
     "execution_count": 7,
     "metadata": {},
     "output_type": "execute_result"
    }
   ],
   "source": [
    "w3.cfx._get_admin(tba.address, None)"
   ]
  },
  {
   "cell_type": "code",
   "execution_count": 8,
   "metadata": {},
   "outputs": [
    {
     "data": {
      "text/plain": [
       "HexBytes('0x363d3d373d3d3d363d738498075dc27b3bff88e5584a517f546ceac31bf65af43d82803e903d91602b57fd5bf3000000000000000000000000000000000000000000000000000000000000000000000000000000000000000000000000000000000000000000000000000000010000000000000000000000008c8ebd56597d2904a3298ca8562bed3bb6e75d2a0000000000000000000000000000000000000000000000000000126641de1e81')"
      ]
     },
     "execution_count": 8,
     "metadata": {},
     "output_type": "execute_result"
    }
   ],
   "source": [
    "w3.cfx.get_code(tba.address)"
   ]
  },
  {
   "cell_type": "code",
   "execution_count": null,
   "metadata": {},
   "outputs": [],
   "source": [
    "w3.cfx.send_transaction({\n",
    "    \"to\": tba.address,\n",
    "    \"value\": 20 * 10**18\n",
    "}).executed()\n",
    "tba.functions.execute(w3.cfx.default_account, 10*10**18, \"0x\", 0).transact({\"from\": owner_acct.address}).executed()\n"
   ]
  },
  {
   "cell_type": "code",
   "execution_count": 12,
   "metadata": {},
   "outputs": [
    {
     "data": {
      "text/plain": [
       "10 CFX"
      ]
     },
     "execution_count": 12,
     "metadata": {},
     "output_type": "execute_result"
    }
   ],
   "source": [
    "w3.cfx.get_balance(tba.address).to(\"CFX\")"
   ]
  },
  {
   "cell_type": "code",
   "execution_count": 14,
   "metadata": {},
   "outputs": [],
   "source": [
    "usdt = w3.cfx.contract(name=\"cUSDT\")"
   ]
  },
  {
   "cell_type": "code",
   "execution_count": 15,
   "metadata": {},
   "outputs": [
    {
     "data": {
      "text/plain": [
       "AttributeDict({'transactionHash': HexBytes('0xe99c6edc0ebb8161dbb903ce54fc62fc650f948875c830b799f1e596ff00cea8'),\n",
       " 'index': 0,\n",
       " 'blockHash': HexBytes('0x18d10c2c0a00e6fc79f1e32c313cc3ea88ca46998ad5d2da6d0b5ecf9c610302'),\n",
       " 'epochNumber': 136100454,\n",
       " 'from': 'cfxtest:aanthezva9vuyrpsmb15sf9xt97f8vduky7cebydev',\n",
       " 'to': 'cfxtest:acepe88unk7fvs18436178up33hb4zkuf62a9dk1gv',\n",
       " 'gasUsed': 61905,\n",
       " 'gasFee': 61905000000000 Drip,\n",
       " 'contractCreated': None,\n",
       " 'logs': [AttributeDict({'address': 'cfxtest:acepe88unk7fvs18436178up33hb4zkuf62a9dk1gv',\n",
       "   'topics': [HexBytes('0x06b541ddaa720db2b10a4d0cdac39b8d360425fc073085fac19bc82614677987'),\n",
       "    HexBytes('0x00000000000000000000000016f392b107e30a358e506fb717f37ffa5f44704d'),\n",
       "    HexBytes('0x00000000000000000000000016f392b107e30a358e506fb717f37ffa5f44704d'),\n",
       "    HexBytes('0x00000000000000000000000085b9a7a1ea015135a1290f769d865d37f0d763f3')],\n",
       "   'data': HexBytes('0x0000000000000000000000000000000000000000000000008ac7230489e800000000000000000000000000000000000000000000000000000000000000000060000000000000000000000000000000000000000000000000000000000000008000000000000000000000000000000000000000000000000000000000000000000000000000000000000000000000000000000000000000000000000000000000')}),\n",
       "  AttributeDict({'address': 'cfxtest:acepe88unk7fvs18436178up33hb4zkuf62a9dk1gv',\n",
       "   'topics': [HexBytes('0xddf252ad1be2c89b69c2b068fc378daa952ba7f163c4a11628f55a4df523b3ef'),\n",
       "    HexBytes('0x00000000000000000000000016f392b107e30a358e506fb717f37ffa5f44704d'),\n",
       "    HexBytes('0x00000000000000000000000085b9a7a1ea015135a1290f769d865d37f0d763f3')],\n",
       "   'data': HexBytes('0x0000000000000000000000000000000000000000000000008ac7230489e80000')})],\n",
       " 'logsBloom': HexBytes('0x00000000000000000000000000000000000000000000000000000000000000000000000000000000000080000000000000000000000000000000000000000000000000000000000000000008000000000000000000000000000000000000000000000000000000000000000000000000000000400000000000000010000000000000000000000000000000000000000000000000000000000800000000000000000008000100000000000000000000080000000000000000000000000000000000000002000000000000002000000400000000000200000000002000000002000000000400000000000000000000000000000000000000000000000000000000'),\n",
       " 'stateRoot': HexBytes('0xe0254a4e6e73ed218bc7754715ceb8388cdb572c2d099f6c88e24bdd65767b44'),\n",
       " 'outcomeStatus': 0,\n",
       " 'txExecErrorMsg': None,\n",
       " 'gasCoveredBySponsor': False,\n",
       " 'storageCoveredBySponsor': True,\n",
       " 'storageCollateralized': 320,\n",
       " 'storageReleased': [AttributeDict({'address': 'cfxtest:acejjfa80vj06j2jgtz9pngkv423fhkuxj786kjr61',\n",
       "   'collaterals': '0x80'})]})"
      ]
     },
     "execution_count": 15,
     "metadata": {},
     "output_type": "execute_result"
    }
   ],
   "source": [
    "usdt.functions.transfer(tba.address, 10**19).transact().executed()"
   ]
  },
  {
   "cell_type": "code",
   "execution_count": 26,
   "metadata": {},
   "outputs": [
    {
     "data": {
      "text/plain": [
       "AttributeDict({'transactionHash': HexBytes('0xa530640d2b82309ad5b3efb666027d362d782c5c4c94c60802096f94fecc48cf'),\n",
       " 'index': 0,\n",
       " 'blockHash': HexBytes('0x5b37cd4864b88035ce66c03d04d29686b469347c52dc06f06a0e3719d6965d53'),\n",
       " 'epochNumber': 136100985,\n",
       " 'from': 'cfxtest:aanhtnrex2nj56kkbws4yx0jeab34ae16pcap53w13',\n",
       " 'to': 'cfxtest:acc5xk7b7jazcrrbfeh1rhpgny59bz5d8pp0ypk630',\n",
       " 'gasUsed': 60827,\n",
       " 'gasFee': 60827000000000 Drip,\n",
       " 'contractCreated': None,\n",
       " 'logs': [AttributeDict({'address': 'cfxtest:acepe88unk7fvs18436178up33hb4zkuf62a9dk1gv',\n",
       "   'topics': [HexBytes('0x06b541ddaa720db2b10a4d0cdac39b8d360425fc073085fac19bc82614677987'),\n",
       "    HexBytes('0x00000000000000000000000085b9a7a1ea015135a1290f769d865d37f0d763f3'),\n",
       "    HexBytes('0x00000000000000000000000085b9a7a1ea015135a1290f769d865d37f0d763f3'),\n",
       "    HexBytes('0x00000000000000000000000016f392b107e30a358e506fb717f37ffa5f44704d')],\n",
       "   'data': HexBytes('0x0000000000000000000000000000000000000000000000000de0b6b3a76400000000000000000000000000000000000000000000000000000000000000000060000000000000000000000000000000000000000000000000000000000000008000000000000000000000000000000000000000000000000000000000000000000000000000000000000000000000000000000000000000000000000000000000')}),\n",
       "  AttributeDict({'address': 'cfxtest:acepe88unk7fvs18436178up33hb4zkuf62a9dk1gv',\n",
       "   'topics': [HexBytes('0xddf252ad1be2c89b69c2b068fc378daa952ba7f163c4a11628f55a4df523b3ef'),\n",
       "    HexBytes('0x00000000000000000000000085b9a7a1ea015135a1290f769d865d37f0d763f3'),\n",
       "    HexBytes('0x00000000000000000000000016f392b107e30a358e506fb717f37ffa5f44704d')],\n",
       "   'data': HexBytes('0x0000000000000000000000000000000000000000000000000de0b6b3a7640000')})],\n",
       " 'logsBloom': HexBytes('0x00000000000000000000000000000000000000000000000000000000000000000000000000000000000080000000000000000000000000000000000000000000000000000000000000000008000000000000000000000000000000000000000000000000000000000000000000000000000000400000000000000010000000000000000000000000000000000000000000000000000000000800000000000000000008000100000000000000000000080000000000000000000000000000000000000002000000000000002000000400000000000200000000002000000002000000000400000000000000000000000000000000000000000000000000000000'),\n",
       " 'stateRoot': HexBytes('0xf2d61d166fcf8567cd963f5732bfce5f2233fb5a5504f1219e12574eec72a5ae'),\n",
       " 'outcomeStatus': 0,\n",
       " 'txExecErrorMsg': None,\n",
       " 'gasCoveredBySponsor': False,\n",
       " 'storageCoveredBySponsor': False,\n",
       " 'storageCollateralized': 128,\n",
       " 'storageReleased': [AttributeDict({'address': 'cfxtest:acepe88unk7fvs18436178up33hb4zkuf62a9dk1gv',\n",
       "   'collaterals': '0x80'})]})"
      ]
     },
     "execution_count": 26,
     "metadata": {},
     "output_type": "execute_result"
    }
   ],
   "source": [
    "data = usdt.functions.transfer(w3.cfx.default_account, 10**18).build_transaction({\"from\": w3.cfx.default_account})[\"data\"]\n",
    "tba.functions.execute(usdt.address, 0, data, 0).transact({\"from\": owner_acct.address}).executed()"
   ]
  },
  {
   "cell_type": "code",
   "execution_count": 27,
   "metadata": {},
   "outputs": [
    {
     "data": {
      "text/plain": [
       "9000000000000000000"
      ]
     },
     "execution_count": 27,
     "metadata": {},
     "output_type": "execute_result"
    }
   ],
   "source": [
    "usdt.functions.balanceOf(tba.address).call()"
   ]
  }
 ],
 "metadata": {
  "kernelspec": {
   "display_name": "sdk",
   "language": "python",
   "name": "python3"
  },
  "language_info": {
   "codemirror_mode": {
    "name": "ipython",
    "version": 3
   },
   "file_extension": ".py",
   "mimetype": "text/x-python",
   "name": "python",
   "nbconvert_exporter": "python",
   "pygments_lexer": "ipython3",
   "version": "3.8.17"
  },
  "orig_nbformat": 4
 },
 "nbformat": 4,
 "nbformat_minor": 2
}
